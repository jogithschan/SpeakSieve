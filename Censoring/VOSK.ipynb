{
  "nbformat": 4,
  "nbformat_minor": 0,
  "metadata": {
    "colab": {
      "provenance": [],
      "include_colab_link": true
    },
    "kernelspec": {
      "name": "python3",
      "display_name": "Python 3"
    },
    "language_info": {
      "name": "python"
    }
  },
  "cells": [
    {
      "cell_type": "markdown",
      "metadata": {
        "id": "view-in-github",
        "colab_type": "text"
      },
      "source": [
        "<a href=\"https://colab.research.google.com/github/utkar22/CSE508_Winter2023_Group2_Project/blob/main/Censoring/VOSK.ipynb\" target=\"_parent\"><img src=\"https://colab.research.google.com/assets/colab-badge.svg\" alt=\"Open In Colab\"/></a>"
      ]
    },
    {
      "cell_type": "code",
      "execution_count": 1,
      "metadata": {
        "colab": {
          "base_uri": "https://localhost:8080/"
        },
        "id": "kMNexvvZmznL",
        "outputId": "bdd63afe-0f8c-4bd3-c177-67a6d96c86b4"
      },
      "outputs": [
        {
          "output_type": "stream",
          "name": "stdout",
          "text": [
            "Looking in indexes: https://pypi.org/simple, https://us-python.pkg.dev/colab-wheels/public/simple/\n",
            "Collecting vosk\n",
            "  Downloading vosk-0.3.45-py3-none-manylinux_2_12_x86_64.manylinux2010_x86_64.whl (7.2 MB)\n",
            "\u001b[2K     \u001b[90m━━━━━━━━━━━━━━━━━━━━━━━━━━━━━━━━━━━━━━━━\u001b[0m \u001b[32m7.2/7.2 MB\u001b[0m \u001b[31m29.7 MB/s\u001b[0m eta \u001b[36m0:00:00\u001b[0m\n",
            "\u001b[?25hRequirement already satisfied: cffi>=1.0 in /usr/local/lib/python3.9/dist-packages (from vosk) (1.15.1)\n",
            "Requirement already satisfied: tqdm in /usr/local/lib/python3.9/dist-packages (from vosk) (4.65.0)\n",
            "Requirement already satisfied: requests in /usr/local/lib/python3.9/dist-packages (from vosk) (2.27.1)\n",
            "Collecting websockets\n",
            "  Downloading websockets-11.0.2-cp39-cp39-manylinux_2_5_x86_64.manylinux1_x86_64.manylinux_2_17_x86_64.manylinux2014_x86_64.whl (129 kB)\n",
            "\u001b[2K     \u001b[90m━━━━━━━━━━━━━━━━━━━━━━━━━━━━━━━━━━━━━━━\u001b[0m \u001b[32m129.7/129.7 kB\u001b[0m \u001b[31m4.4 MB/s\u001b[0m eta \u001b[36m0:00:00\u001b[0m\n",
            "\u001b[?25hCollecting srt\n",
            "  Downloading srt-3.5.3.tar.gz (28 kB)\n",
            "  Preparing metadata (setup.py) ... \u001b[?25l\u001b[?25hdone\n",
            "Requirement already satisfied: pycparser in /usr/local/lib/python3.9/dist-packages (from cffi>=1.0->vosk) (2.21)\n",
            "Requirement already satisfied: urllib3<1.27,>=1.21.1 in /usr/local/lib/python3.9/dist-packages (from requests->vosk) (1.26.15)\n",
            "Requirement already satisfied: certifi>=2017.4.17 in /usr/local/lib/python3.9/dist-packages (from requests->vosk) (2022.12.7)\n",
            "Requirement already satisfied: idna<4,>=2.5 in /usr/local/lib/python3.9/dist-packages (from requests->vosk) (3.4)\n",
            "Requirement already satisfied: charset-normalizer~=2.0.0 in /usr/local/lib/python3.9/dist-packages (from requests->vosk) (2.0.12)\n",
            "Building wheels for collected packages: srt\n",
            "  Building wheel for srt (setup.py) ... \u001b[?25l\u001b[?25hdone\n",
            "  Created wheel for srt: filename=srt-3.5.3-py3-none-any.whl size=22445 sha256=5b05c177864b403268ff9a40983954f0e09992589d3019a8ee74593a31c38dcc\n",
            "  Stored in directory: /root/.cache/pip/wheels/69/cb/6a/5e5977c5c1fab3b94ff429718103884855b0d5671ed9880100\n",
            "Successfully built srt\n",
            "Installing collected packages: websockets, srt, vosk\n",
            "Successfully installed srt-3.5.3 vosk-0.3.45 websockets-11.0.2\n",
            "Looking in indexes: https://pypi.org/simple, https://us-python.pkg.dev/colab-wheels/public/simple/\n",
            "Collecting pydub\n",
            "  Downloading pydub-0.25.1-py2.py3-none-any.whl (32 kB)\n",
            "Installing collected packages: pydub\n",
            "Successfully installed pydub-0.25.1\n",
            "Reading package lists... Done\n",
            "Building dependency tree       \n",
            "Reading state information... Done\n",
            "ffmpeg is already the newest version (7:4.2.7-0ubuntu0.1).\n",
            "0 upgraded, 0 newly installed, 0 to remove and 24 not upgraded.\n"
          ]
        }
      ],
      "source": [
        "!pip3 install vosk\n",
        "!pip install pydub\n",
        "!apt install ffmpeg"
      ]
    },
    {
      "cell_type": "code",
      "source": [
        "import pandas as pd\n",
        "import io\n",
        "\n",
        "from vosk import Model, KaldiRecognizer, SetLogLevel\n",
        "from pydub import AudioSegment\n",
        "\n",
        "import wave\n",
        "from scipy.io import wavfile\n",
        "\n",
        "from pydub.silence import split_on_silence"
      ],
      "metadata": {
        "id": "cbJjJwipndrF"
      },
      "execution_count": 2,
      "outputs": []
    },
    {
      "cell_type": "code",
      "source": [
        "import nltk\n",
        "nltk.download('punkt')  # Download the Punkt tokenizer data\n",
        "nltk.download('averaged_perceptron_tagger')  # Download the POS tagger data\n",
        "nltk.download('porter_test')  # Download the Porter stemmer data\n",
        "\n",
        "from nltk.stem import PorterStemmer"
      ],
      "metadata": {
        "id": "PlrBmjFI13Nj",
        "outputId": "f4c879cc-712d-438d-ed64-f331d6990b50",
        "colab": {
          "base_uri": "https://localhost:8080/"
        }
      },
      "execution_count": 3,
      "outputs": [
        {
          "output_type": "stream",
          "name": "stderr",
          "text": [
            "[nltk_data] Downloading package punkt to /root/nltk_data...\n",
            "[nltk_data]   Unzipping tokenizers/punkt.zip.\n",
            "[nltk_data] Downloading package averaged_perceptron_tagger to\n",
            "[nltk_data]     /root/nltk_data...\n",
            "[nltk_data]   Unzipping taggers/averaged_perceptron_tagger.zip.\n",
            "[nltk_data] Downloading package porter_test to /root/nltk_data...\n",
            "[nltk_data]   Unzipping stemmers/porter_test.zip.\n"
          ]
        }
      ]
    },
    {
      "cell_type": "code",
      "source": [
        "from google.colab import drive\n",
        "drive.mount('/content/drive')\n",
        "%cd /content/drive/MyDrive/IR_Project"
      ],
      "metadata": {
        "colab": {
          "base_uri": "https://localhost:8080/"
        },
        "id": "b2iAAr5jJ9vi",
        "outputId": "b0a4378f-1f4c-4a82-9f76-8c2efe337c48"
      },
      "execution_count": 4,
      "outputs": [
        {
          "output_type": "stream",
          "name": "stdout",
          "text": [
            "Mounted at /content/drive\n",
            "/content/drive/MyDrive/IR_Project\n"
          ]
        }
      ]
    },
    {
      "cell_type": "code",
      "source": [
        "def mp3_to_wav(mp3_audio):\n",
        "    wav_audio = io.BytesIO()\n",
        "    mp3_audio.export(wav_audio, format=\"wav\")\n",
        "    return wav_audio"
      ],
      "metadata": {
        "id": "CkhuUSC8wsfO"
      },
      "execution_count": 5,
      "outputs": []
    },
    {
      "cell_type": "code",
      "source": [
        "def remove_punct(word):\n",
        "    new_word = \"\"\n",
        "    for i in word:\n",
        "        if i.isalpha():\n",
        "            new_word+=i\n",
        "    return new_word"
      ],
      "metadata": {
        "id": "O0fdU3R4-Ut9"
      },
      "execution_count": 6,
      "outputs": []
    },
    {
      "cell_type": "code",
      "source": [
        "stemmer = PorterStemmer()"
      ],
      "metadata": {
        "id": "DZ4HP9_Z2egp"
      },
      "execution_count": 7,
      "outputs": []
    },
    {
      "cell_type": "code",
      "source": [
        "def clean_word(word):\n",
        "    word = word.lower()\n",
        "    word = remove_punct(word)\n",
        "    word = stemmer.stem(word)\n",
        "    return word"
      ],
      "metadata": {
        "id": "oNh9xRV9ArOE"
      },
      "execution_count": 8,
      "outputs": []
    },
    {
      "cell_type": "code",
      "source": [
        "def get_se_dict(se_df):\n",
        "    full_text = []\n",
        "    se_dict = {}\n",
        "    for index, row in se_df.iterrows():\n",
        "        word = row[2]\n",
        "        full_text.append(word)\n",
        "        word = clean_word(word)\n",
        "\n",
        "        if word not in se_dict:\n",
        "            se_dict[word] = []\n",
        "        \n",
        "        curr = [row[0]*1000,row[1]*1000]\n",
        "        se_dict[word].append(curr)        \n",
        "\n",
        "    return se_dict, full_text"
      ],
      "metadata": {
        "id": "FoiVEl7p3k6g"
      },
      "execution_count": 9,
      "outputs": []
    },
    {
      "cell_type": "code",
      "source": [
        "def generate_se_dict(path_to_csv):\n",
        "    se_df = pd.read_csv(path_to_csv, header = None)\n",
        "    se_dict, full_text = get_se_dict(se_df)\n",
        "    return se_dict, se_df, full_text"
      ],
      "metadata": {
        "id": "E1Yi_Pb5Cl7_"
      },
      "execution_count": 10,
      "outputs": []
    },
    {
      "cell_type": "code",
      "source": [
        "def find_phrase(removal_word, se_df):\n",
        "    timestamps = []\n",
        "    phrase = removal_word.split()\n",
        "    i = 0\n",
        "\n",
        "    indices = []\n",
        "    new_indices = []\n",
        "\n",
        "    for index, row in se_df.iterrows():\n",
        "        word = row[2]\n",
        "\n",
        "        if clean_word(phrase[i]) == clean_word(word):\n",
        "            if i == 0:\n",
        "                start = row[0]*1000\n",
        "                ix = index\n",
        "            i+=1\n",
        "            if i == len(phrase):\n",
        "                end = row[1]*1000\n",
        "                curr = [start,end]\n",
        "                timestamps.append(curr)\n",
        "                i=0\n",
        "                indices.append(ix)\n",
        "        else:\n",
        "            i = 0\n",
        "\n",
        "    for i in indices:\n",
        "        for j in range(len(phrase)):\n",
        "            new_indices.append(i+j)\n",
        "\n",
        "    return timestamps, new_indices"
      ],
      "metadata": {
        "id": "KpnBS5nI4dgz"
      },
      "execution_count": 11,
      "outputs": []
    },
    {
      "cell_type": "code",
      "source": [
        "def get_wav_audio(path_to_audio):\n",
        "    if path_to_audio[-4:] == \".wav\":\n",
        "        audio = AudioSegment.from_wav(path_to_audio)\n",
        "        return audio\n",
        "    elif path_to_audio[-4:] == \".mp3\":\n",
        "        audio = AudioSegment.from_mp3(path_to_audio)\n",
        "        audio_buf = mp3_to_wav(audio)\n",
        "        audio = AudioSegment.from_wav(audio_buf)\n",
        "        return audio\n",
        "    return audio"
      ],
      "metadata": {
        "id": "txuXZOh2Ei7N"
      },
      "execution_count": 12,
      "outputs": []
    },
    {
      "cell_type": "code",
      "source": [
        "def remove_word(full_text, removal_word):\n",
        "    new_indices = []\n",
        "    for i in range(len(full_text)):\n",
        "        if clean_word(full_text[i]) == removal_word:\n",
        "            new_indices.append(i)\n",
        "    return new_indices"
      ],
      "metadata": {
        "id": "3j6oKuYRAXi3"
      },
      "execution_count": 13,
      "outputs": []
    },
    {
      "cell_type": "code",
      "source": [
        "def merge_full_text(full_text):\n",
        "    output_string = \"\"\n",
        "    for i in range(len(full_text)):\n",
        "        if i>0 and full_text[i-1] == \"[REDACTED]\" and full_text[i] == \"[REDACTED]\":\n",
        "            continue\n",
        "        output_string+=full_text[i]+\" \"\n",
        "\n",
        "    return output_string"
      ],
      "metadata": {
        "id": "Kvk3ulpHAyGd"
      },
      "execution_count": 22,
      "outputs": []
    },
    {
      "cell_type": "code",
      "source": [
        "def alter_csv(t_df, se_df, indices):\n",
        "    indices.sort()\n",
        "\n",
        "    arr = []\n",
        "    i = 0\n",
        "    \n",
        "    for index, row in t_df.iterrows():\n",
        "        curr = []\n",
        "        txt = row[3].split()\n",
        "\n",
        "        for j in txt:\n",
        "            if i in indices:\n",
        "                curr.append(\"[REDACTED]\")\n",
        "            else:\n",
        "                curr.append(j)\n",
        "            i+=1\n",
        "\n",
        "        new_s = merge_full_text(curr)\n",
        "        arr.append(new_s)\n",
        "\n",
        "    del t_df[3]\n",
        "\n",
        "    t_df[3] = arr\n",
        "\n",
        "    t_df.to_csv('transcript_bleeped.csv', index = False)"
      ],
      "metadata": {
        "id": "XLByxDnQF__Q"
      },
      "execution_count": 23,
      "outputs": []
    },
    {
      "cell_type": "code",
      "source": [
        "def add_bleep(wav_audio, input_arr, se_dict, se_df, full_text):\n",
        "    timestamps_arr = []\n",
        "    indices = []\n",
        "\n",
        "    for removal_word in input_arr:\n",
        "        if len(removal_word.split())==1:\n",
        "            removal_word = clean_word(removal_word)\n",
        "            new_indices = remove_word(full_text, removal_word)\n",
        "            if removal_word in se_dict:\n",
        "                timestamps = se_dict[removal_word]\n",
        "            else:\n",
        "                timestamps = []\n",
        "        else:\n",
        "            timestamps, new_indices = find_phrase(removal_word, se_df)\n",
        "        timestamps_arr.extend(timestamps)\n",
        "        indices.extend(new_indices)\n",
        "\n",
        "\n",
        "    if len(timestamps_arr) == 0:\n",
        "        return False, False\n",
        "\n",
        "    bleep_volume = 30\n",
        "\n",
        "    for i in timestamps_arr:\n",
        "        start = i[0] - 20\n",
        "        end = i[1] + 20\n",
        "        \n",
        "        \n",
        "        duration = (end - start)\n",
        "        \n",
        "        # Create a bleep sound segment with the same duration as the word segment and apply gain\n",
        "        bleep_sound = AudioSegment.silent(duration=duration).fade_in(50).fade_out(50)\n",
        "        bleep_sound = bleep_sound.apply_gain(bleep_volume)\n",
        "        \n",
        "        # Overlay the bleep sound over the word segment\n",
        "        wav_audio = wav_audio.overlay(bleep_sound, position=start, loop=False, gain_during_overlay=-30)\n",
        "\n",
        "    return wav_audio, indices"
      ],
      "metadata": {
        "id": "XBrEEMIPVLrm"
      },
      "execution_count": 16,
      "outputs": []
    },
    {
      "cell_type": "code",
      "source": [
        "def run(path_to_audio, input_string, path_to_csv = \"transcript_word.csv\", path_to_transcript = \"transcript.csv\"):\n",
        "    our_arr = [{\"STATUS\":None} , {\"Name\": None}]\n",
        "\n",
        "    t_df = pd.read_csv(path_to_transcript, header = None)\n",
        "\n",
        "    se_dict,se_df,full_text = generate_se_dict(path_to_csv)\n",
        "    wav_audio = get_wav_audio(path_to_audio)\n",
        "\n",
        "    bleeped_words = input_string.split(',')\n",
        "\n",
        "    new_audio, indices = add_bleep(wav_audio, bleeped_words, se_dict, se_df, full_text)\n",
        "\n",
        "    if (new_audio == False):\n",
        "        our_arr[0][\"STATUS\"] = False\n",
        "        return our_arr\n",
        "\n",
        "    alter_csv(t_df, se_df, indices)\n",
        "\n",
        "    audio_name = f\"audio_files\\\\{path_to_audio[:-4]}_bleeped.wav\"\n",
        "    new_audio.export(audio_name, format=\"wav\")\n",
        "    our_arr[0][\"STATUS\"] = True\n",
        "    our_arr[1][\"Name\"] = audio_name\n",
        "    #our_arr[1][\"Audio\"] = new_audio\n",
        "\n",
        "    return our_arr"
      ],
      "metadata": {
        "id": "IjtMsFv7BRCs"
      },
      "execution_count": 25,
      "outputs": []
    },
    {
      "cell_type": "code",
      "source": [
        "path_to_audio = \"audio.wav\"\n",
        "path_to_csv = \"transcript_word.csv\"\n",
        "\n",
        "bleeped_word = \"islam, hate\"\n",
        "\n",
        "our_arr = run(path_to_audio, bleeped_word, path_to_csv)"
      ],
      "metadata": {
        "id": "qQlOQFjyGgOG"
      },
      "execution_count": 26,
      "outputs": []
    },
    {
      "cell_type": "code",
      "source": [
        "our_arr"
      ],
      "metadata": {
        "colab": {
          "base_uri": "https://localhost:8080/"
        },
        "id": "belx6RNRJAlJ",
        "outputId": "3a4e1fa0-893e-467a-e7db-ea0f3c8194ad"
      },
      "execution_count": 20,
      "outputs": [
        {
          "output_type": "execute_result",
          "data": {
            "text/plain": [
              "[{'STATUS': True}, {'Name': 'audio_files\\\\audio_bleeped.wav'}]"
            ]
          },
          "metadata": {},
          "execution_count": 20
        }
      ]
    }
  ]
}